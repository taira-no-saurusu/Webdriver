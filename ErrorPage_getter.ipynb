{
  "nbformat": 4,
  "nbformat_minor": 0,
  "metadata": {
    "colab": {
      "name": "ErrorPage_getter.ipynb",
      "provenance": [],
      "collapsed_sections": [],
      "authorship_tag": "ABX9TyM/iOUiOHW0QyJSPegBjGur",
      "include_colab_link": true
    },
    "kernelspec": {
      "name": "python3",
      "display_name": "Python 3"
    },
    "language_info": {
      "name": "python"
    }
  },
  "cells": [
    {
      "cell_type": "markdown",
      "metadata": {
        "id": "view-in-github",
        "colab_type": "text"
      },
      "source": [
        "<a href=\"https://colab.research.google.com/github/taira-no-saurusu/Webdriver/blob/main/ErrorPage_getter.ipynb\" target=\"_parent\"><img src=\"https://colab.research.google.com/assets/colab-badge.svg\" alt=\"Open In Colab\"/></a>"
      ]
    },
    {
      "cell_type": "markdown",
      "source": [
        "# ステータスコードが異常な記事情報（投稿日・記事タイトル・URL・ステータスコード）をcsvで出力・標準出力\n",
        "**操作方法**\n",
        "\n",
        "1.   画面上の「ランタイム」タブを選択\n",
        "2.   「すべてのセルを実行」を選択  \n",
        "→プログラムが実行され、画面を1番下までスクロールすると、404NotFound等、問題がある記事の情報が順次表示されていく。\n",
        "\n",
        "<font color=\"MediumVioletRed\">※本プログラムは完了するのに90分近く時間を要するので時間がある時に実行してください</font> \n",
        "\n",
        "**主なステータスコード**\n",
        "\n",
        "*   100~300  >>>  正常(主に200)\n",
        "*   4xx系    >>>  クライアントエラー\n",
        "*   403      >>>  閲覧権限なし・アクセス拒否\n",
        "*   404      >>>  ページが見つからない\n",
        "*   5xx系    >>>  サーバーエラー  \n",
        "  \n",
        "[ステータスコードとは？](https://www.sakurasaku-labo.jp/blogs/status-code-basic-knowledges)\n",
        "\n",
        "\n",
        "\n",
        "\n",
        "\n",
        "\n",
        "\n"
      ],
      "metadata": {
        "id": "h0yL84usky0F"
      }
    },
    {
      "cell_type": "code",
      "execution_count": null,
      "metadata": {
        "colab": {
          "base_uri": "https://localhost:8080/"
        },
        "id": "AkZeqdIff9Xh",
        "outputId": "3e3fc184-df35-4e86-e0f0-31c273e20a94"
      },
      "outputs": [
        {
          "output_type": "stream",
          "name": "stdout",
          "text": [
            "Reading package lists... Done\n",
            "Building dependency tree       \n",
            "Reading state information... Done\n",
            "fonts-ipafont-gothic is already the newest version (00303-18ubuntu1).\n",
            "0 upgraded, 0 newly installed, 0 to remove and 39 not upgraded.\n"
          ]
        }
      ],
      "source": [
        "!apt-get -y install fonts-ipafont-gothic"
      ]
    },
    {
      "cell_type": "code",
      "source": [
        "!pip install selenium"
      ],
      "metadata": {
        "colab": {
          "base_uri": "https://localhost:8080/"
        },
        "id": "vTwreBA_j2p2",
        "outputId": "d845bd69-b7b5-4f2d-d959-0e8396e34f98"
      },
      "execution_count": null,
      "outputs": [
        {
          "output_type": "stream",
          "name": "stdout",
          "text": [
            "Requirement already satisfied: selenium in /usr/local/lib/python3.7/dist-packages (4.1.0)\n",
            "Requirement already satisfied: urllib3[secure]~=1.26 in /usr/local/lib/python3.7/dist-packages (from selenium) (1.26.8)\n",
            "Requirement already satisfied: trio~=0.17 in /usr/local/lib/python3.7/dist-packages (from selenium) (0.19.0)\n",
            "Requirement already satisfied: trio-websocket~=0.9 in /usr/local/lib/python3.7/dist-packages (from selenium) (0.9.2)\n",
            "Requirement already satisfied: outcome in /usr/local/lib/python3.7/dist-packages (from trio~=0.17->selenium) (1.1.0)\n",
            "Requirement already satisfied: attrs>=19.2.0 in /usr/local/lib/python3.7/dist-packages (from trio~=0.17->selenium) (21.2.0)\n",
            "Requirement already satisfied: sortedcontainers in /usr/local/lib/python3.7/dist-packages (from trio~=0.17->selenium) (2.4.0)\n",
            "Requirement already satisfied: async-generator>=1.9 in /usr/local/lib/python3.7/dist-packages (from trio~=0.17->selenium) (1.10)\n",
            "Requirement already satisfied: sniffio in /usr/local/lib/python3.7/dist-packages (from trio~=0.17->selenium) (1.2.0)\n",
            "Requirement already satisfied: idna in /usr/local/lib/python3.7/dist-packages (from trio~=0.17->selenium) (2.10)\n",
            "Requirement already satisfied: wsproto>=0.14 in /usr/local/lib/python3.7/dist-packages (from trio-websocket~=0.9->selenium) (1.0.0)\n",
            "Requirement already satisfied: pyOpenSSL>=0.14 in /usr/local/lib/python3.7/dist-packages (from urllib3[secure]~=1.26->selenium) (21.0.0)\n",
            "Requirement already satisfied: certifi in /usr/local/lib/python3.7/dist-packages (from urllib3[secure]~=1.26->selenium) (2021.10.8)\n",
            "Requirement already satisfied: cryptography>=1.3.4 in /usr/local/lib/python3.7/dist-packages (from urllib3[secure]~=1.26->selenium) (36.0.1)\n",
            "Requirement already satisfied: cffi>=1.12 in /usr/local/lib/python3.7/dist-packages (from cryptography>=1.3.4->urllib3[secure]~=1.26->selenium) (1.15.0)\n",
            "Requirement already satisfied: pycparser in /usr/local/lib/python3.7/dist-packages (from cffi>=1.12->cryptography>=1.3.4->urllib3[secure]~=1.26->selenium) (2.21)\n",
            "Requirement already satisfied: six>=1.5.2 in /usr/local/lib/python3.7/dist-packages (from pyOpenSSL>=0.14->urllib3[secure]~=1.26->selenium) (1.15.0)\n",
            "Requirement already satisfied: h11<1,>=0.9.0 in /usr/local/lib/python3.7/dist-packages (from wsproto>=0.14->trio-websocket~=0.9->selenium) (0.12.0)\n"
          ]
        }
      ]
    },
    {
      "cell_type": "code",
      "source": [
        "!apt-get update\n",
        "!apt install chromium-chromedriver\n",
        "!cp /usr/lib/chromium-browser/chromedriver /usr/bin"
      ],
      "metadata": {
        "colab": {
          "base_uri": "https://localhost:8080/"
        },
        "id": "o7auVDlqmBfB",
        "outputId": "48f4e2ff-14d9-412b-f33b-4c05c2da95d3"
      },
      "execution_count": null,
      "outputs": [
        {
          "output_type": "stream",
          "name": "stdout",
          "text": [
            "Hit:1 https://cloud.r-project.org/bin/linux/ubuntu bionic-cran40/ InRelease\n",
            "Ign:2 https://developer.download.nvidia.com/compute/cuda/repos/ubuntu1804/x86_64  InRelease\n",
            "Ign:3 https://developer.download.nvidia.com/compute/machine-learning/repos/ubuntu1804/x86_64  InRelease\n",
            "Hit:4 https://developer.download.nvidia.com/compute/cuda/repos/ubuntu1804/x86_64  Release\n",
            "Hit:5 https://developer.download.nvidia.com/compute/machine-learning/repos/ubuntu1804/x86_64  Release\n",
            "Hit:6 http://archive.ubuntu.com/ubuntu bionic InRelease\n",
            "Hit:7 http://security.ubuntu.com/ubuntu bionic-security InRelease\n",
            "Hit:9 http://archive.ubuntu.com/ubuntu bionic-updates InRelease\n",
            "Hit:10 http://ppa.launchpad.net/c2d4u.team/c2d4u4.0+/ubuntu bionic InRelease\n",
            "Hit:12 http://archive.ubuntu.com/ubuntu bionic-backports InRelease\n",
            "Hit:13 http://ppa.launchpad.net/cran/libgit2/ubuntu bionic InRelease\n",
            "Hit:14 http://ppa.launchpad.net/deadsnakes/ppa/ubuntu bionic InRelease\n",
            "Hit:15 http://ppa.launchpad.net/graphics-drivers/ppa/ubuntu bionic InRelease\n",
            "Reading package lists... Done\n",
            "Reading package lists... Done\n",
            "Building dependency tree       \n",
            "Reading state information... Done\n",
            "chromium-chromedriver is already the newest version (95.0.4638.69-0ubuntu0.18.04.1).\n",
            "0 upgraded, 0 newly installed, 0 to remove and 39 not upgraded.\n",
            "cp: '/usr/lib/chromium-browser/chromedriver' and '/usr/bin/chromedriver' are the same file\n"
          ]
        }
      ]
    },
    {
      "cell_type": "code",
      "source": [
        "# ライブラリインポート\n",
        "import os\n",
        "import shutil\n",
        "import sys\n",
        "import time\n",
        "import urllib.request\n",
        "from selenium import webdriver\n",
        "from selenium.webdriver.common.by import By\n",
        "from selenium.webdriver.chrome.options import Options\n",
        "\n",
        "import requests\n",
        "import csv\n",
        "import datetime"
      ],
      "metadata": {
        "id": "OP23tenxhGS8"
      },
      "execution_count": null,
      "outputs": []
    },
    {
      "cell_type": "code",
      "source": [
        "#開始記事のURL指定(履歴書が不要になる世界へ､｢スクー｣の挑戦)\n",
        "#この記事をスタートとして順にリンクボタンがあるページを解析していく\n",
        "URL = 'https://kindaipicks.com/article/000001'\n",
        "options = webdriver.ChromeOptions()\n",
        "options.add_argument('--headless')\n",
        "options.add_argument('--no-sandbox')\n",
        "\n",
        "driver = webdriver.Chrome('chromedriver',options = options)\n",
        "driver.get(URL)\n",
        "time.sleep(1)"
      ],
      "metadata": {
        "id": "d4vofNEDk-Ep"
      },
      "execution_count": null,
      "outputs": []
    },
    {
      "cell_type": "code",
      "source": [
        "#csvファイル作成\n",
        "dt_now = datetime.datetime.now()\n",
        "file_name = str(dt_now.year)+\"_\"+str(dt_now.month)+\"_\"+str(dt_now.day)+\".csv\"\n",
        "with open(file_name,'w') as csv_file:\n",
        "    fieldnames = [\"投稿日\",\"記事タイトル\",\"URL\",\"ステータスコード\"]\n",
        "    writer = csv.DictWriter(csv_file, fieldnames=fieldnames)\n",
        "    writer.writeheader()\n"
      ],
      "metadata": {
        "id": "NXn-Ycq9ltDG"
      },
      "execution_count": null,
      "outputs": []
    },
    {
      "cell_type": "code",
      "source": [
        "i = 0;\n",
        "corrent_url = URL\n",
        "while True:\n",
        "    time.sleep(0.5)\n",
        "    i+=1\n",
        "\n",
        "\n",
        "    try :\n",
        "        #HTMLから取得\n",
        "        readlink = driver.find_element(By.CLASS_NAME,'readLink')\n",
        "\n",
        "        #class='readLink'からURL取得\n",
        "        url = readlink.get_attribute('href')\n",
        "\n",
        "        #レスポンスを取得\n",
        "        res = requests.get(url)\n",
        "\n",
        "        #ステータスコードを取得\n",
        "        status_code = str(res.status_code)\n",
        "\n",
        "        #print(res.status_code)\n",
        "        #print(driver.title)\n",
        "        if status_code != '200' and status_code != \"403\":\n",
        "\n",
        "            #記事のタイトルを取得\n",
        "            title = driver.title\n",
        "\n",
        "            #記事の投稿日を取得\n",
        "            posted_date = driver.find_element(By.CLASS_NAME,'date').text\n",
        "            print(\"--------------------------------------------------------------------------------\")\n",
        "            print(\"投稿日：\"+posted_date)\n",
        "            print(\"記事タイトル：\"+title)\n",
        "            print(\"URL:\"+corrent_url)\n",
        "            print(\"ステータスコード：\"+status_code)\n",
        "\n",
        "            #csv書き込み\n",
        "            with open(file_name,'a') as csv_file:\n",
        "                writer = csv.DictWriter(csv_file, fieldnames=fieldnames)\n",
        "                writer.writerow({'投稿日': posted_date, '記事タイトル':title,'URL':corrent_url,'ステータスコード':status_code})\n",
        "\n",
        "\n",
        "\n",
        "        #リンクボタンがない記事に関しては次の記事へパスする\n",
        "    except :\n",
        "        pass\n",
        "\n",
        "    try :\n",
        "        #次の記事のリンクを取得して移動\n",
        "        prev = driver.find_element(By.CLASS_NAME,'prev')\n",
        "        next_url_a = prev.find_element(By.TAG_NAME,'a')\n",
        "        corrent_url=next_url_a.get_attribute('href')\n",
        "        driver.get(corrent_url)\n",
        "\n",
        "    #終了条件\n",
        "    except :\n",
        "        break\n",
        "\n",
        "driver.quit()\n"
      ],
      "metadata": {
        "id": "3bKzoP9bofpf"
      },
      "execution_count": null,
      "outputs": []
    }
  ]
}